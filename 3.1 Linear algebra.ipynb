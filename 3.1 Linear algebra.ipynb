{
 "cells": [
  {
   "cell_type": "markdown",
   "metadata": {},
   "source": [
    "# Primer on linear algebra in Numpy\n",
    "\n",
    "## Instructions:\n",
    "* Go through the notebook and complete the tasks. \n",
    "* Make sure you understand the examples given. If you need help, refer to the Essential readings or the documentation link provided, or go to the discussion forum. \n",
    "* When a question allows a free-form answer (e.g. what do you observe?), create a new markdown cell below and answer the question in the notebook. \n",
    "* Save your notebooks when you are done.\n",
    " \n",
    "**Task 1:**\n",
    "Go through the tutorial on Linear Algebra in Python here: http://ml-cheatsheet.readthedocs.io/en/latest/linear_algebra.html.\n",
    "Paste and run the code from the tutorial in the empty cell below (or create new empty cells below) to get more familiar with the material.\n"
   ]
  },
  {
   "cell_type": "code",
   "execution_count": 2,
   "metadata": {},
   "outputs": [
    {
     "name": "stdout",
     "output_type": "stream",
     "text": [
      "Matrix A:\n",
      "[[1 2]\n",
      " [3 4]]\n",
      "\n",
      "Transpose of A:\n",
      "[[1 3]\n",
      " [2 4]]\n",
      "\n",
      "Determinant of A:\n",
      "-2.0000000000000004\n",
      "\n",
      "Inverse of A:\n",
      "[[-2.   1. ]\n",
      " [ 1.5 -0.5]]\n",
      "\n",
      "Matrix multiplication A * B:\n",
      "[[19 22]\n",
      " [43 50]]\n",
      "\n",
      "Eigenvalues of A:\n",
      "[-0.37228132  5.37228132]\n",
      "Eigenvectors of A:\n",
      "[[-0.82456484 -0.41597356]\n",
      " [ 0.56576746 -0.90937671]]\n"
     ]
    }
   ],
   "source": [
    "import numpy as np\n",
    "\n",
    "#Code here - use code samples from link above\n",
    "import numpy as np\n",
    "\n",
    "# Creating a 2D array (matrix)\n",
    "A = np.array([[1, 2], [3, 4]])\n",
    "print(\"Matrix A:\")\n",
    "print(A)\n",
    "\n",
    "# Transpose of a matrix\n",
    "A_T = A.T\n",
    "print(\"\\nTranspose of A:\")\n",
    "print(A_T)\n",
    "\n",
    "# Determinant of a matrix\n",
    "det_A = np.linalg.det(A)\n",
    "print(\"\\nDeterminant of A:\")\n",
    "print(det_A)\n",
    "\n",
    "# Inverse of a matrix\n",
    "inv_A = np.linalg.inv(A)\n",
    "print(\"\\nInverse of A:\")\n",
    "print(inv_A)\n",
    "\n",
    "# Matrix multiplication\n",
    "B = np.array([[5, 6], [7, 8]])\n",
    "C = np.dot(A, B)\n",
    "print(\"\\nMatrix multiplication A * B:\")\n",
    "print(C)\n",
    "\n",
    "# Eigenvalues and eigenvectors\n",
    "eigenvalues, eigenvectors = np.linalg.eig(A)\n",
    "print(\"\\nEigenvalues of A:\")\n",
    "print(eigenvalues)\n",
    "print(\"Eigenvectors of A:\")\n",
    "print(eigenvectors)\n"
   ]
  },
  {
   "cell_type": "markdown",
   "metadata": {},
   "source": [
    "**Task 2:**\n",
    "Create the following matrices:\n",
    "\n",
    "$X=\\begin{bmatrix} 2 & 3 & 4 \\\\ 1 & 2 &3 \\end{bmatrix},Y=\\begin{bmatrix} 0 & 1 & 0 \\\\ 1 & 0 &0\\\\ 0 & 0 & 1 \\end{bmatrix}$ \n",
    "\n",
    "Then do the following:\n",
    "1.\tMultiply ```X``` with ```Y``` (```Z1=X*Y=XY```) and print the result. What do you observe? \n",
    "2.\tMultiply ```X``` with ```Y``` transpose (```Z2=X*Y.T```) and print the result. What do you observe? \n",
    "3.\tWhat can you tell about matrix ```Y```, given ```Z1``` and ```Z2```? "
   ]
  },
  {
   "cell_type": "code",
   "execution_count": 3,
   "metadata": {},
   "outputs": [
    {
     "name": "stdout",
     "output_type": "stream",
     "text": [
      "Z1 (X * Y):\n",
      "[[4 2 3]\n",
      " [7 2 3]]\n",
      "\n",
      "Z2 (X * Y.T):\n",
      "[[1 2 5]\n",
      " [4 2 5]]\n"
     ]
    }
   ],
   "source": [
    "# Create matrices X and Y\n",
    "X = np.array([[2, 1, 3], [2, 4, 3]])\n",
    "Y = np.array([[0, 1, 0], [1, 0, 0], [1, 0, 1]])\n",
    "\n",
    "# Multiply X with Y (Z1 = X * Y)\n",
    "Z1 = np.dot(X, Y)\n",
    "print(\"Z1 (X * Y):\")\n",
    "print(Z1)\n",
    "\n",
    "# Multiply X with Y transpose (Z2 = X * Y.T)\n",
    "Z2 = np.dot(X, Y.T)\n",
    "print(\"\\nZ2 (X * Y.T):\")\n",
    "print(Z2)\n",
    "\n",
    "# Observations\n",
    "# Z1 shows how the elements of X interact with Y. The dimensions must align for the multiplication.\n",
    "# Z2 results in a different shape and may provide insight into how the original rows of X relate to the rows of Y.\n"
   ]
  },
  {
   "cell_type": "markdown",
   "metadata": {},
   "source": [
    "**Task 3:** \n",
    "Create a 2x2 identity matrix ```I``` using the NumPy function ```eye(dim)``` $$ I=\\begin{bmatrix} 1 & 0 \\\\ 0 & 1 \\end{bmatrix} $$\n"
   ]
  },
  {
   "cell_type": "code",
   "execution_count": 4,
   "metadata": {},
   "outputs": [
    {
     "name": "stdout",
     "output_type": "stream",
     "text": [
      "\n",
      "Identity Matrix I:\n",
      "[[1. 0.]\n",
      " [0. 1.]]\n"
     ]
    }
   ],
   "source": [
    "#Code here\n",
    "# Create a 2x2 identity matrix\n",
    "I = np.eye(2)\n",
    "print(\"\\nIdentity Matrix I:\")\n",
    "print(I)\n"
   ]
  },
  {
   "cell_type": "markdown",
   "metadata": {},
   "source": [
    "**Task 4:** \n",
    "1. Multiply (using dot) matrix ```I``` with the vector ```x``` defined below: $$Ix$$\n",
    "2. Print the output.\n",
    "3. What do you observe? \n",
    "\n"
   ]
  },
  {
   "cell_type": "code",
   "execution_count": 5,
   "metadata": {},
   "outputs": [
    {
     "name": "stdout",
     "output_type": "stream",
     "text": [
      "\n",
      "Vector x:\n",
      "[2 3]\n",
      "\n",
      "Result of I * x:\n",
      "[2. 3.]\n"
     ]
    }
   ],
   "source": [
    "\n",
    "# Define vector x\n",
    "x = np.array([2, 3])\n",
    "print(\"\\nVector x:\")\n",
    "print(x)\n",
    "\n",
    "# Multiply I with x\n",
    "result_Ix = np.dot(I, x)\n",
    "print(\"\\nResult of I * x:\")\n",
    "print(result_Ix)\n",
    "\n",
    "# Observation\n",
    "# The output should be the same as the vector x since multiplying by an identity matrix returns the original vector.\n"
   ]
  },
  {
   "cell_type": "markdown",
   "metadata": {},
   "source": [
    "**Task 5:**\n",
    "1.\tMultiply (using dot) matrix ```I``` with the vector ```x``` defined below: $$Ix$$\n",
    "2.\tPrint the output.\n",
    "3.\tWhat do you observe? \n"
   ]
  },
  {
   "cell_type": "code",
   "execution_count": 6,
   "metadata": {},
   "outputs": [
    {
     "name": "stdout",
     "output_type": "stream",
     "text": [
      "\n",
      "Matrix X:\n",
      "[[2 3]\n",
      " [4 5]]\n",
      "\n",
      "Result of I * first row of X:\n",
      "[2. 3.]\n"
     ]
    }
   ],
   "source": [
    "# Define 2D matrix X\n",
    "X = np.array([[2, 3], [4, 5]])\n",
    "print(\"\\nMatrix X:\")\n",
    "print(X)\n",
    "\n",
    "# Multiply I with the first row of X\n",
    "result_Ix = np.dot(I, X[0])  # Multiply with the first row\n",
    "print(\"\\nResult of I * first row of X:\")\n",
    "print(result_Ix)\n",
    "\n",
    "# Observation\n",
    "# The output should again match the first row of X since I is the identity matrix.\n"
   ]
  },
  {
   "cell_type": "markdown",
   "metadata": {},
   "source": [
    "**Task 6:**\n",
    "1. Multiply (using dot) matrix $X$ with the inverse matrix, $X^{-1}$ (use the NumPy function ```linalg.inv``` to do so): $XX^{-1}$\n",
    "2. What do you observe? \n",
    "\n",
    "\n"
   ]
  },
  {
   "cell_type": "code",
   "execution_count": 7,
   "metadata": {},
   "outputs": [
    {
     "name": "stdout",
     "output_type": "stream",
     "text": [
      "\n",
      "Result of X * X^-1:\n",
      "[[1. 0.]\n",
      " [0. 1.]]\n"
     ]
    }
   ],
   "source": [
    "# Create a 2x2 matrix X\n",
    "X = np.array([[1, 2], [0, 1]])\n",
    "\n",
    "# Multiply X with its inverse\n",
    "X_inv = np.linalg.inv(X)\n",
    "result = np.dot(X, X_inv)\n",
    "print(\"\\nResult of X * X^-1:\")\n",
    "print(result)\n",
    "\n",
    "# Observation\n",
    "# The result should be the identity matrix, confirming that multiplying a matrix by its inverse yields the identity matrix.\n"
   ]
  },
  {
   "cell_type": "code",
   "execution_count": null,
   "metadata": {},
   "outputs": [],
   "source": []
  }
 ],
 "metadata": {
  "kernelspec": {
   "display_name": "Python 3",
   "language": "python",
   "name": "python3"
  },
  "language_info": {
   "codemirror_mode": {
    "name": "ipython",
    "version": 3
   },
   "file_extension": ".py",
   "mimetype": "text/x-python",
   "name": "python",
   "nbconvert_exporter": "python",
   "pygments_lexer": "ipython3",
   "version": "3.7.6"
  }
 },
 "nbformat": 4,
 "nbformat_minor": 2
}
